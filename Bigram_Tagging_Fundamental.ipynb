{
  "cells": [
    {
      "cell_type": "code",
      "execution_count": 35,
      "metadata": {
        "colab": {
          "base_uri": "https://localhost:8080/"
        },
        "id": "wJW6gVkI-t2m",
        "outputId": "d006c941-138d-444a-8a1a-f7eff9ba6cfd"
      },
      "outputs": [
        {
          "output_type": "stream",
          "name": "stderr",
          "text": [
            "[nltk_data] Downloading package punkt to /root/nltk_data...\n",
            "[nltk_data]   Package punkt is already up-to-date!\n",
            "[nltk_data] Downloading package brown to /root/nltk_data...\n",
            "[nltk_data]   Package brown is already up-to-date!\n",
            "[nltk_data] Downloading package indian to /root/nltk_data...\n",
            "[nltk_data]   Package indian is already up-to-date!\n"
          ]
        }
      ],
      "source": [
        "import nltk\n",
        "nltk.download('punkt')\n",
        "nltk.download('brown')\n",
        "from nltk import sent_tokenize\n",
        "from nltk import word_tokenize\n",
        "from nltk.corpus import brown\n",
        "from nltk.corpus import indian\n",
        "nltk.download('indian')\n",
        "import collections"
      ]
    },
    {
      "cell_type": "code",
      "execution_count": 36,
      "metadata": {
        "colab": {
          "base_uri": "https://localhost:8080/"
        },
        "id": "ltvynlP4NJze",
        "outputId": "6cc4246f-b6f5-48c5-824b-1f1888cf322d"
      },
      "outputs": [
        {
          "output_type": "stream",
          "name": "stdout",
          "text": [
            "{'Det': 4, 'N': 6, 'V': 3, 'PUNCT': 3, 'P': 1}\n",
            "{'Det': {'the': 1.0}, 'N': {'students': 0.5, 'test': 0.16666666666666666, 'pass': 0.16666666666666666, 'teachers': 0.16666666666666666}, 'V': {'pass': 0.3333333333333333, 'wait': 0.3333333333333333, 'test': 0.3333333333333333}, 'PUNCT': {'.': 1.0}, 'P': {'for': 1.0}}\n",
            "{'Det': 0.6666666666666666, 'N': 0.3333333333333333, 'V': 0.0, 'PUNCT': 0.0, 'P': 0.0}\n",
            "{'Det': {'Det': 0, 'N': 4, 'V': 0, 'PUNCT': 0, 'P': 0}, 'N': {'Det': 0, 'N': 0, 'V': 3, 'PUNCT': 3, 'P': 0}, 'V': {'Det': 1, 'N': 1, 'V': 0, 'PUNCT': 0, 'P': 1}, 'PUNCT': {'Det': 0, 'N': 0, 'V': 0, 'PUNCT': 0, 'P': 0}, 'P': {'Det': 1, 'N': 0, 'V': 0, 'PUNCT': 0, 'P': 0}}\n",
            "{'Det': {'Det': 0.0, 'N': 1.0, 'V': 0.0, 'PUNCT': 0.0, 'P': 0.0}, 'N': {'Det': 0.0, 'N': 0.0, 'V': 0.5, 'PUNCT': 0.5, 'P': 0.0}, 'V': {'Det': 0.3333333333333333, 'N': 0.3333333333333333, 'V': 0.0, 'PUNCT': 0.0, 'P': 0.3333333333333333}, 'PUNCT': {'Det': 0.0, 'N': 0.0, 'V': 0.0, 'PUNCT': 0.0, 'P': 0.0}, 'P': {'Det': 1.0, 'N': 0.0, 'V': 0.0, 'PUNCT': 0.0, 'P': 0.0}}\n"
          ]
        }
      ],
      "source": [
        "possible_tags = list()\n",
        "all_words = list()\n",
        "observations = list()\n",
        "tag_dict = dict()\n",
        "starter_dict =  dict()\n",
        "tx_matrix = list()\n",
        "emission_matrix = dict()\n",
        "tag_words = dict()\n",
        "sentences = [[('the','Det'),('students','N'),('pass','V'),('the','Det'),('test','N'),('.','PUNCT')],[('the','Det'),('students','N'),('wait','V'),('for','P'),('the','Det'),('pass','N'),('.','PUNCT')],[('teachers','N'),('test','V'),('students','N'),('.','PUNCT')]]\n",
        "possible_tags = ['Det','N','V','PUNCT','P']\n",
        "for tag in possible_tags:\n",
        "  tag_dict[tag] = 0\n",
        "  tag_words[tag] = list()\n",
        "  starter_dict[tag] = 0\n",
        "for sentence in sentences:\n",
        "  for word in sentence:\n",
        "    tag_dict[word[1]] += 1\n",
        "    tag_words[word[1]].append(word[0])\n",
        "for tag,lists in tag_words.items():\n",
        "  tag_words[tag] = dict(collections.Counter(lists))\n",
        "#emission probability - only include non zero values\n",
        "for tag,words in tag_words.items():\n",
        "  for word,count in words.items():\n",
        "    new_count = count/tag_dict[tag]\n",
        "    words[word] = new_count\n",
        "print(tag_dict)\n",
        "print(tag_words)\n",
        "\n",
        "#starting probability - \n",
        "denominator = len(sentences)\n",
        "for sentence in sentences:\n",
        "  starter_dict[sentence[0][1]]+=1\n",
        "for tag,counts in starter_dict.items():\n",
        "  starter_dict[tag] = counts/denominator\n",
        "print(starter_dict)\n",
        "\n",
        "#transition probability - \n",
        "pair_counts = dict()\n",
        "for tag in possible_tags:\n",
        "  pair_counts[tag] = dict()\n",
        "  for other_tag in possible_tags:\n",
        "    pair_counts[tag][other_tag] = 0\n",
        "#print(pair_counts)\n",
        "for sentence in sentences:\n",
        "  for i in range(1,len(sentence)):\n",
        "    pair_counts[sentence[i-1][1]][sentence[i][1]] += 1\n",
        "print(pair_counts)\n",
        "for current_tag,next_tag_dict in pair_counts.items():\n",
        "  #print(type(next_tag_dict),next_tag_dict)\n",
        "  for tag,count in next_tag_dict.items():\n",
        "    new_count = count/tag_dict[current_tag]\n",
        "    next_tag_dict[tag] = new_count\n",
        "print(pair_counts)\n"
      ]
    },
    {
      "cell_type": "code",
      "execution_count": 47,
      "metadata": {
        "colab": {
          "base_uri": "https://localhost:8080/"
        },
        "id": "-TF7OiAC-rtj",
        "outputId": "6e310880-865b-4549-a17b-9f1e4622bb38"
      },
      "outputs": [
        {
          "output_type": "stream",
          "name": "stdout",
          "text": [
            "['the', 'teachers', 'pass', 'the', 'students', '.']\n"
          ]
        }
      ],
      "source": [
        "test = 'the teachers pass the students.'\n",
        "word_list = word_tokenize(test)\n",
        "print(word_list)"
      ]
    },
    {
      "cell_type": "code",
      "execution_count": 63,
      "metadata": {
        "id": "CNv3qcTvF4Rc",
        "colab": {
          "base_uri": "https://localhost:8080/"
        },
        "outputId": "452c3d24-aadf-41b7-9303-b82a48eb80ac"
      },
      "outputs": [
        {
          "output_type": "stream",
          "name": "stdout",
          "text": [
            "['the', 'teachers', 'pass', 'the', 'students', '.']\n",
            "['Det', 'N', 'V', 'Det', 'N', 'PUNCT']\n"
          ]
        }
      ],
      "source": [
        "#viterbi matrix\n",
        "word_values_dict = dict()\n",
        "for i in range(len(word_list)):\n",
        "  word_values_dict[i] = dict()\n",
        "  for tag in possible_tags:\n",
        "    word_values_dict[i][tag] = (0,'.')\n",
        "\n",
        "for i in range(len(word_list)):\n",
        "  current_word = word_list[i]\n",
        "  #print(current_word)\n",
        "  for tag in possible_tags:\n",
        "    if current_word not in tag_words[tag].keys():\n",
        "      #word_values_dict[i][tag] = (0,'q0')\n",
        "      continue\n",
        "    emission_prob = tag_words[tag][current_word]\n",
        "    transition_prob = starter_dict[tag]\n",
        "    if i != 0:\n",
        "      max_val = 0\n",
        "      max_state = '.'\n",
        "      for prev_tag in possible_tags:\n",
        "        curr_val = word_values_dict[i-1][prev_tag][0]*pair_counts[prev_tag][tag] #worried\n",
        "        if curr_val>max_val:\n",
        "          max_val = curr_val\n",
        "          max_state = prev_tag\n",
        "      word_values_dict[i][tag] = (emission_prob*max_val,max_state)\n",
        "      \n",
        "    else:\n",
        "      word_values_dict[i][tag] = (emission_prob*transition_prob,'q0')\n",
        "\n",
        "answer = list()\n",
        "last_dist = word_values_dict[len(word_list)-1]\n",
        "#print(last_dist)\n",
        "max_tag = '.'\n",
        "max_val = 0\n",
        "for tag in possible_tags:\n",
        "  if last_dist[tag][0]>max_val:\n",
        "    max_val = last_dist[tag][0]\n",
        "    max_tag = tag\n",
        "answer.append(max_tag)\n",
        "prev_tag = last_dist[max_tag][1]\n",
        "answer.append(prev_tag)\n",
        "for i in range(len(word_list)-2,-1,-1):\n",
        "  next_prev = word_values_dict[i][prev_tag][1]\n",
        "  answer.append(next_prev)\n",
        "  prev_tag = next_prev\n",
        "answer.reverse()\n",
        "print(word_list)\n",
        "print(answer[1:])"
      ]
    },
    {
      "cell_type": "code",
      "execution_count": 36,
      "metadata": {
        "id": "PW8jOgyvTrp0"
      },
      "outputs": [],
      "source": []
    },
    {
      "cell_type": "code",
      "execution_count": 36,
      "metadata": {
        "id": "pBjk5cnVWwvM"
      },
      "outputs": [],
      "source": []
    },
    {
      "cell_type": "code",
      "execution_count": 36,
      "metadata": {
        "id": "mPEHYygR7-Mv"
      },
      "outputs": [],
      "source": []
    }
  ],
  "metadata": {
    "colab": {
      "provenance": []
    },
    "kernelspec": {
      "display_name": "Python 3",
      "name": "python3"
    },
    "language_info": {
      "name": "python"
    }
  },
  "nbformat": 4,
  "nbformat_minor": 0
}